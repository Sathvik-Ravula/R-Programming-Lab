{
 "cells": [
  {
   "cell_type": "markdown",
   "id": "cb65fded",
   "metadata": {},
   "source": [
    "# Querying in R"
   ]
  },
  {
   "cell_type": "markdown",
   "id": "ca35b15c",
   "metadata": {},
   "source": [
    "### Using a CSV file"
   ]
  },
  {
   "cell_type": "markdown",
   "id": "512ce070",
   "metadata": {},
   "source": [
    "*- Saideva Sathvik R, 22234*"
   ]
  },
  {
   "cell_type": "code",
   "execution_count": 1,
   "id": "c6ab97c4",
   "metadata": {},
   "outputs": [
    {
     "data": {
      "text/html": [
       "<table class=\"dataframe\">\n",
       "<caption>A data.frame: 6 × 12</caption>\n",
       "<thead>\n",
       "\t<tr><th></th><th scope=col>PassengerId</th><th scope=col>Survived</th><th scope=col>Pclass</th><th scope=col>Name</th><th scope=col>Sex</th><th scope=col>Age</th><th scope=col>SibSp</th><th scope=col>Parch</th><th scope=col>Ticket</th><th scope=col>Fare</th><th scope=col>Cabin</th><th scope=col>Embarked</th></tr>\n",
       "\t<tr><th></th><th scope=col>&lt;int&gt;</th><th scope=col>&lt;int&gt;</th><th scope=col>&lt;int&gt;</th><th scope=col>&lt;chr&gt;</th><th scope=col>&lt;chr&gt;</th><th scope=col>&lt;dbl&gt;</th><th scope=col>&lt;int&gt;</th><th scope=col>&lt;int&gt;</th><th scope=col>&lt;chr&gt;</th><th scope=col>&lt;dbl&gt;</th><th scope=col>&lt;chr&gt;</th><th scope=col>&lt;chr&gt;</th></tr>\n",
       "</thead>\n",
       "<tbody>\n",
       "\t<tr><th scope=row>1</th><td>1</td><td>0</td><td>3</td><td>Braund, Mr. Owen Harris                            </td><td>male  </td><td>22</td><td>1</td><td>0</td><td>A/5 21171       </td><td> 7.2500</td><td>    </td><td>S</td></tr>\n",
       "\t<tr><th scope=row>2</th><td>2</td><td>1</td><td>1</td><td>Cumings, Mrs. John Bradley (Florence Briggs Thayer)</td><td>female</td><td>38</td><td>1</td><td>0</td><td>PC 17599        </td><td>71.2833</td><td>C85 </td><td>C</td></tr>\n",
       "\t<tr><th scope=row>3</th><td>3</td><td>1</td><td>3</td><td>Heikkinen, Miss. Laina                             </td><td>female</td><td>26</td><td>0</td><td>0</td><td>STON/O2. 3101282</td><td> 7.9250</td><td>    </td><td>S</td></tr>\n",
       "\t<tr><th scope=row>4</th><td>4</td><td>1</td><td>1</td><td>Futrelle, Mrs. Jacques Heath (Lily May Peel)       </td><td>female</td><td>35</td><td>1</td><td>0</td><td>113803          </td><td>53.1000</td><td>C123</td><td>S</td></tr>\n",
       "\t<tr><th scope=row>5</th><td>5</td><td>0</td><td>3</td><td>Allen, Mr. William Henry                           </td><td>male  </td><td>35</td><td>0</td><td>0</td><td>373450          </td><td> 8.0500</td><td>    </td><td>S</td></tr>\n",
       "\t<tr><th scope=row>6</th><td>6</td><td>0</td><td>3</td><td>Moran, Mr. James                                   </td><td>male  </td><td>NA</td><td>0</td><td>0</td><td>330877          </td><td> 8.4583</td><td>    </td><td>Q</td></tr>\n",
       "</tbody>\n",
       "</table>\n"
      ],
      "text/latex": [
       "A data.frame: 6 × 12\n",
       "\\begin{tabular}{r|llllllllllll}\n",
       "  & PassengerId & Survived & Pclass & Name & Sex & Age & SibSp & Parch & Ticket & Fare & Cabin & Embarked\\\\\n",
       "  & <int> & <int> & <int> & <chr> & <chr> & <dbl> & <int> & <int> & <chr> & <dbl> & <chr> & <chr>\\\\\n",
       "\\hline\n",
       "\t1 & 1 & 0 & 3 & Braund, Mr. Owen Harris                             & male   & 22 & 1 & 0 & A/5 21171        &  7.2500 &      & S\\\\\n",
       "\t2 & 2 & 1 & 1 & Cumings, Mrs. John Bradley (Florence Briggs Thayer) & female & 38 & 1 & 0 & PC 17599         & 71.2833 & C85  & C\\\\\n",
       "\t3 & 3 & 1 & 3 & Heikkinen, Miss. Laina                              & female & 26 & 0 & 0 & STON/O2. 3101282 &  7.9250 &      & S\\\\\n",
       "\t4 & 4 & 1 & 1 & Futrelle, Mrs. Jacques Heath (Lily May Peel)        & female & 35 & 1 & 0 & 113803           & 53.1000 & C123 & S\\\\\n",
       "\t5 & 5 & 0 & 3 & Allen, Mr. William Henry                            & male   & 35 & 0 & 0 & 373450           &  8.0500 &      & S\\\\\n",
       "\t6 & 6 & 0 & 3 & Moran, Mr. James                                    & male   & NA & 0 & 0 & 330877           &  8.4583 &      & Q\\\\\n",
       "\\end{tabular}\n"
      ],
      "text/markdown": [
       "\n",
       "A data.frame: 6 × 12\n",
       "\n",
       "| <!--/--> | PassengerId &lt;int&gt; | Survived &lt;int&gt; | Pclass &lt;int&gt; | Name &lt;chr&gt; | Sex &lt;chr&gt; | Age &lt;dbl&gt; | SibSp &lt;int&gt; | Parch &lt;int&gt; | Ticket &lt;chr&gt; | Fare &lt;dbl&gt; | Cabin &lt;chr&gt; | Embarked &lt;chr&gt; |\n",
       "|---|---|---|---|---|---|---|---|---|---|---|---|---|\n",
       "| 1 | 1 | 0 | 3 | Braund, Mr. Owen Harris                             | male   | 22 | 1 | 0 | A/5 21171        |  7.2500 | <!----> | S |\n",
       "| 2 | 2 | 1 | 1 | Cumings, Mrs. John Bradley (Florence Briggs Thayer) | female | 38 | 1 | 0 | PC 17599         | 71.2833 | C85  | C |\n",
       "| 3 | 3 | 1 | 3 | Heikkinen, Miss. Laina                              | female | 26 | 0 | 0 | STON/O2. 3101282 |  7.9250 | <!----> | S |\n",
       "| 4 | 4 | 1 | 1 | Futrelle, Mrs. Jacques Heath (Lily May Peel)        | female | 35 | 1 | 0 | 113803           | 53.1000 | C123 | S |\n",
       "| 5 | 5 | 0 | 3 | Allen, Mr. William Henry                            | male   | 35 | 0 | 0 | 373450           |  8.0500 | <!----> | S |\n",
       "| 6 | 6 | 0 | 3 | Moran, Mr. James                                    | male   | NA | 0 | 0 | 330877           |  8.4583 | <!----> | Q |\n",
       "\n"
      ],
      "text/plain": [
       "  PassengerId Survived Pclass\n",
       "1 1           0        3     \n",
       "2 2           1        1     \n",
       "3 3           1        3     \n",
       "4 4           1        1     \n",
       "5 5           0        3     \n",
       "6 6           0        3     \n",
       "  Name                                                Sex    Age SibSp Parch\n",
       "1 Braund, Mr. Owen Harris                             male   22  1     0    \n",
       "2 Cumings, Mrs. John Bradley (Florence Briggs Thayer) female 38  1     0    \n",
       "3 Heikkinen, Miss. Laina                              female 26  0     0    \n",
       "4 Futrelle, Mrs. Jacques Heath (Lily May Peel)        female 35  1     0    \n",
       "5 Allen, Mr. William Henry                            male   35  0     0    \n",
       "6 Moran, Mr. James                                    male   NA  0     0    \n",
       "  Ticket           Fare    Cabin Embarked\n",
       "1 A/5 21171         7.2500       S       \n",
       "2 PC 17599         71.2833 C85   C       \n",
       "3 STON/O2. 3101282  7.9250       S       \n",
       "4 113803           53.1000 C123  S       \n",
       "5 373450            8.0500       S       \n",
       "6 330877            8.4583       Q       "
      ]
     },
     "metadata": {},
     "output_type": "display_data"
    }
   ],
   "source": [
    "# read in the Titanic dataset\n",
    "titanic_data <- read.csv(\"titanic.csv\", header = TRUE)\n",
    "\n",
    "# view the first few rows of the data\n",
    "head(titanic_data)\n"
   ]
  },
  {
   "cell_type": "markdown",
   "id": "8354ce19",
   "metadata": {},
   "source": [
    "#### How many rows and columns are in the Titanic dataset?"
   ]
  },
  {
   "cell_type": "code",
   "execution_count": 7,
   "id": "f3a2063f",
   "metadata": {},
   "outputs": [
    {
     "data": {
      "text/html": [
       "<style>\n",
       ".list-inline {list-style: none; margin:0; padding: 0}\n",
       ".list-inline>li {display: inline-block}\n",
       ".list-inline>li:not(:last-child)::after {content: \"\\00b7\"; padding: 0 .5ex}\n",
       "</style>\n",
       "<ol class=list-inline><li>891</li><li>12</li></ol>\n"
      ],
      "text/latex": [
       "\\begin{enumerate*}\n",
       "\\item 891\n",
       "\\item 12\n",
       "\\end{enumerate*}\n"
      ],
      "text/markdown": [
       "1. 891\n",
       "2. 12\n",
       "\n",
       "\n"
      ],
      "text/plain": [
       "[1] 891  12"
      ]
     },
     "metadata": {},
     "output_type": "display_data"
    }
   ],
   "source": [
    "# view the dimensions of the dataset\n",
    "dim(titanic_data)\n"
   ]
  },
  {
   "cell_type": "markdown",
   "id": "06dfb368",
   "metadata": {},
   "source": [
    "#### How many passengers survived and how many did not survive?"
   ]
  },
  {
   "cell_type": "code",
   "execution_count": 6,
   "id": "2056f1b1",
   "metadata": {},
   "outputs": [
    {
     "data": {
      "text/plain": [
       "\n",
       "  0   1 \n",
       "549 342 "
      ]
     },
     "metadata": {},
     "output_type": "display_data"
    }
   ],
   "source": [
    "# count the number of passengers who survived and who did not survive\n",
    "table(titanic_data$Survived)\n"
   ]
  },
  {
   "cell_type": "markdown",
   "id": "dd9046d6",
   "metadata": {},
   "source": [
    "#### What is the average age of male passengers on the Titanic?"
   ]
  },
  {
   "cell_type": "code",
   "execution_count": 5,
   "id": "4d958d18",
   "metadata": {},
   "outputs": [
    {
     "data": {
      "text/html": [
       "30.7266445916115"
      ],
      "text/latex": [
       "30.7266445916115"
      ],
      "text/markdown": [
       "30.7266445916115"
      ],
      "text/plain": [
       "[1] 30.72664"
      ]
     },
     "metadata": {},
     "output_type": "display_data"
    }
   ],
   "source": [
    "# calculate the average age of male passengers\n",
    "mean(titanic_data$Age[titanic_data$Sex == \"male\"], na.rm = TRUE)\n"
   ]
  },
  {
   "cell_type": "markdown",
   "id": "e1bba315",
   "metadata": {},
   "source": [
    "#### What is the percentage of passengers who survived in each passenger class?"
   ]
  },
  {
   "cell_type": "code",
   "execution_count": 9,
   "id": "524f2ee9",
   "metadata": {},
   "outputs": [
    {
     "data": {
      "text/plain": [
       "   \n",
       "            0         1\n",
       "  1 0.3703704 0.6296296\n",
       "  2 0.5271739 0.4728261\n",
       "  3 0.7576375 0.2423625"
      ]
     },
     "metadata": {},
     "output_type": "display_data"
    }
   ],
   "source": [
    "# calculate the percentage of passengers who survived in each passenger class\n",
    "prop.table(table(titanic_data$Pclass, titanic_data$Survived), margin = 1)\n"
   ]
  },
  {
   "cell_type": "markdown",
   "id": "67021176",
   "metadata": {},
   "source": [
    "#### What is the most common age of passengers on the Titanic?"
   ]
  },
  {
   "cell_type": "code",
   "execution_count": 10,
   "id": "165867e3",
   "metadata": {},
   "outputs": [
    {
     "data": {
      "text/html": [
       "<strong>NA:</strong> 177"
      ],
      "text/latex": [
       "\\textbf{NA:} 177"
      ],
      "text/markdown": [
       "**NA:** 177"
      ],
      "text/plain": [
       "<NA> \n",
       " 177 "
      ]
     },
     "metadata": {},
     "output_type": "display_data"
    }
   ],
   "source": [
    "# calculate the most common age of passengers\n",
    "table(titanic_data$Age, useNA = \"ifany\")[which.max(table(titanic_data$Age, useNA = \"ifany\"))]"
   ]
  },
  {
   "cell_type": "markdown",
   "id": "31d6f2c8",
   "metadata": {},
   "source": [
    "#### What is the average fare paid by passengers who survived versus those who did not survive?"
   ]
  },
  {
   "cell_type": "code",
   "execution_count": 11,
   "id": "a299e7f4",
   "metadata": {},
   "outputs": [
    {
     "data": {
      "text/html": [
       "<table class=\"dataframe\">\n",
       "<caption>A data.frame: 2 × 2</caption>\n",
       "<thead>\n",
       "\t<tr><th scope=col>Survived</th><th scope=col>x</th></tr>\n",
       "\t<tr><th scope=col>&lt;int&gt;</th><th scope=col>&lt;dbl&gt;</th></tr>\n",
       "</thead>\n",
       "<tbody>\n",
       "\t<tr><td>0</td><td>22.11789</td></tr>\n",
       "\t<tr><td>1</td><td>48.39541</td></tr>\n",
       "</tbody>\n",
       "</table>\n"
      ],
      "text/latex": [
       "A data.frame: 2 × 2\n",
       "\\begin{tabular}{ll}\n",
       " Survived & x\\\\\n",
       " <int> & <dbl>\\\\\n",
       "\\hline\n",
       "\t 0 & 22.11789\\\\\n",
       "\t 1 & 48.39541\\\\\n",
       "\\end{tabular}\n"
      ],
      "text/markdown": [
       "\n",
       "A data.frame: 2 × 2\n",
       "\n",
       "| Survived &lt;int&gt; | x &lt;dbl&gt; |\n",
       "|---|---|\n",
       "| 0 | 22.11789 |\n",
       "| 1 | 48.39541 |\n",
       "\n"
      ],
      "text/plain": [
       "  Survived x       \n",
       "1 0        22.11789\n",
       "2 1        48.39541"
      ]
     },
     "metadata": {},
     "output_type": "display_data"
    }
   ],
   "source": [
    "aggregate(titanic_data$Fare, by = list(Survived = titanic_data$Survived), FUN = mean, na.rm = TRUE)"
   ]
  },
  {
   "cell_type": "markdown",
   "id": "be399292",
   "metadata": {},
   "source": [
    "#### What is the survival rate of passengers based on their age group (child, adult, elderly)?"
   ]
  },
  {
   "cell_type": "code",
   "execution_count": 12,
   "id": "180ed869",
   "metadata": {},
   "outputs": [
    {
     "data": {
      "text/plain": [
       "         \n",
       "                  0         1\n",
       "  child   0.4964029 0.5035971\n",
       "  adult   0.6137566 0.3862434\n",
       "  elderly 0.8750000 0.1250000"
      ]
     },
     "metadata": {},
     "output_type": "display_data"
    }
   ],
   "source": [
    "# create age groups\n",
    "titanic_data$AgeGroup <- cut(titanic_data$Age, breaks = c(0, 18, 65, Inf), labels = c(\"child\", \"adult\", \"elderly\"))\n",
    "\n",
    "# calculate the survival rate of passengers based on their age group\n",
    "prop.table(table(titanic_data$AgeGroup, titanic_data$Survived), margin = 1)"
   ]
  },
  {
   "cell_type": "markdown",
   "id": "ca0d614a",
   "metadata": {},
   "source": [
    "#### How many passengers had siblings or spouses on board?"
   ]
  },
  {
   "cell_type": "code",
   "execution_count": 13,
   "id": "a695d79e",
   "metadata": {},
   "outputs": [
    {
     "data": {
      "text/html": [
       "283"
      ],
      "text/latex": [
       "283"
      ],
      "text/markdown": [
       "283"
      ],
      "text/plain": [
       "[1] 283"
      ]
     },
     "metadata": {},
     "output_type": "display_data"
    }
   ],
   "source": [
    "sum(titanic_data$SibSp > 0)"
   ]
  },
  {
   "cell_type": "markdown",
   "id": "0a1d8c41",
   "metadata": {},
   "source": [
    "#### What is the survival rate of passengers based on their age group, gender, and class?"
   ]
  },
  {
   "cell_type": "code",
   "execution_count": 14,
   "id": "24afc6c5",
   "metadata": {},
   "outputs": [
    {
     "data": {
      "text/html": [
       "<table class=\"dataframe\">\n",
       "<caption>A data.frame: 15 × 4</caption>\n",
       "<thead>\n",
       "\t<tr><th scope=col>AgeGroup</th><th scope=col>Sex</th><th scope=col>Class</th><th scope=col>x</th></tr>\n",
       "\t<tr><th scope=col>&lt;fct&gt;</th><th scope=col>&lt;chr&gt;</th><th scope=col>&lt;int&gt;</th><th scope=col>&lt;dbl&gt;</th></tr>\n",
       "</thead>\n",
       "<tbody>\n",
       "\t<tr><td>child  </td><td>female</td><td>1</td><td>0.90909091</td></tr>\n",
       "\t<tr><td>adult  </td><td>female</td><td>1</td><td>0.97297297</td></tr>\n",
       "\t<tr><td>child  </td><td>male  </td><td>1</td><td>0.80000000</td></tr>\n",
       "\t<tr><td>adult  </td><td>male  </td><td>1</td><td>0.38043478</td></tr>\n",
       "\t<tr><td>elderly</td><td>male  </td><td>1</td><td>0.25000000</td></tr>\n",
       "\t<tr><td>child  </td><td>female</td><td>2</td><td>1.00000000</td></tr>\n",
       "\t<tr><td>adult  </td><td>female</td><td>2</td><td>0.90000000</td></tr>\n",
       "\t<tr><td>child  </td><td>male  </td><td>2</td><td>0.60000000</td></tr>\n",
       "\t<tr><td>adult  </td><td>male  </td><td>2</td><td>0.07317073</td></tr>\n",
       "\t<tr><td>elderly</td><td>male  </td><td>2</td><td>0.00000000</td></tr>\n",
       "\t<tr><td>child  </td><td>female</td><td>3</td><td>0.51162791</td></tr>\n",
       "\t<tr><td>adult  </td><td>female</td><td>3</td><td>0.42372881</td></tr>\n",
       "\t<tr><td>child  </td><td>male  </td><td>3</td><td>0.21568627</td></tr>\n",
       "\t<tr><td>adult  </td><td>male  </td><td>3</td><td>0.13500000</td></tr>\n",
       "\t<tr><td>elderly</td><td>male  </td><td>3</td><td>0.00000000</td></tr>\n",
       "</tbody>\n",
       "</table>\n"
      ],
      "text/latex": [
       "A data.frame: 15 × 4\n",
       "\\begin{tabular}{llll}\n",
       " AgeGroup & Sex & Class & x\\\\\n",
       " <fct> & <chr> & <int> & <dbl>\\\\\n",
       "\\hline\n",
       "\t child   & female & 1 & 0.90909091\\\\\n",
       "\t adult   & female & 1 & 0.97297297\\\\\n",
       "\t child   & male   & 1 & 0.80000000\\\\\n",
       "\t adult   & male   & 1 & 0.38043478\\\\\n",
       "\t elderly & male   & 1 & 0.25000000\\\\\n",
       "\t child   & female & 2 & 1.00000000\\\\\n",
       "\t adult   & female & 2 & 0.90000000\\\\\n",
       "\t child   & male   & 2 & 0.60000000\\\\\n",
       "\t adult   & male   & 2 & 0.07317073\\\\\n",
       "\t elderly & male   & 2 & 0.00000000\\\\\n",
       "\t child   & female & 3 & 0.51162791\\\\\n",
       "\t adult   & female & 3 & 0.42372881\\\\\n",
       "\t child   & male   & 3 & 0.21568627\\\\\n",
       "\t adult   & male   & 3 & 0.13500000\\\\\n",
       "\t elderly & male   & 3 & 0.00000000\\\\\n",
       "\\end{tabular}\n"
      ],
      "text/markdown": [
       "\n",
       "A data.frame: 15 × 4\n",
       "\n",
       "| AgeGroup &lt;fct&gt; | Sex &lt;chr&gt; | Class &lt;int&gt; | x &lt;dbl&gt; |\n",
       "|---|---|---|---|\n",
       "| child   | female | 1 | 0.90909091 |\n",
       "| adult   | female | 1 | 0.97297297 |\n",
       "| child   | male   | 1 | 0.80000000 |\n",
       "| adult   | male   | 1 | 0.38043478 |\n",
       "| elderly | male   | 1 | 0.25000000 |\n",
       "| child   | female | 2 | 1.00000000 |\n",
       "| adult   | female | 2 | 0.90000000 |\n",
       "| child   | male   | 2 | 0.60000000 |\n",
       "| adult   | male   | 2 | 0.07317073 |\n",
       "| elderly | male   | 2 | 0.00000000 |\n",
       "| child   | female | 3 | 0.51162791 |\n",
       "| adult   | female | 3 | 0.42372881 |\n",
       "| child   | male   | 3 | 0.21568627 |\n",
       "| adult   | male   | 3 | 0.13500000 |\n",
       "| elderly | male   | 3 | 0.00000000 |\n",
       "\n"
      ],
      "text/plain": [
       "   AgeGroup Sex    Class x         \n",
       "1  child    female 1     0.90909091\n",
       "2  adult    female 1     0.97297297\n",
       "3  child    male   1     0.80000000\n",
       "4  adult    male   1     0.38043478\n",
       "5  elderly  male   1     0.25000000\n",
       "6  child    female 2     1.00000000\n",
       "7  adult    female 2     0.90000000\n",
       "8  child    male   2     0.60000000\n",
       "9  adult    male   2     0.07317073\n",
       "10 elderly  male   2     0.00000000\n",
       "11 child    female 3     0.51162791\n",
       "12 adult    female 3     0.42372881\n",
       "13 child    male   3     0.21568627\n",
       "14 adult    male   3     0.13500000\n",
       "15 elderly  male   3     0.00000000"
      ]
     },
     "metadata": {},
     "output_type": "display_data"
    }
   ],
   "source": [
    "titanic_data$AgeGroup <- cut(titanic_data$Age, breaks = c(0, 18, 65, Inf), labels = c(\"child\", \"adult\", \"elderly\"))\n",
    "\n",
    "# calculate the survival rate of passengers based on their age group, gender, and class\n",
    "aggregate(titanic_data$Survived, by = list(AgeGroup = titanic_data$AgeGroup, Sex = titanic_data$Sex, Class = titanic_data$Pclass), FUN = function(x) mean(x, na.rm = TRUE))"
   ]
  },
  {
   "cell_type": "markdown",
   "id": "643e5312",
   "metadata": {},
   "source": [
    "#### What is the most common surname among passengers?"
   ]
  },
  {
   "cell_type": "code",
   "execution_count": 15,
   "id": "e6179206",
   "metadata": {},
   "outputs": [
    {
     "data": {
      "text/html": [
       "'Mr. James'"
      ],
      "text/latex": [
       "'Mr. James'"
      ],
      "text/markdown": [
       "'Mr. James'"
      ],
      "text/plain": [
       "[1] \"Mr. James\""
      ]
     },
     "metadata": {},
     "output_type": "display_data"
    }
   ],
   "source": [
    "# extract the surnames from the passengers' names\n",
    "titanic_data$Surname <- gsub(\".*, \", \"\", titanic_data$Name)\n",
    "\n",
    "# count the number of occurrences of each surname\n",
    "surname_counts <- table(titanic_data$Surname)\n",
    "\n",
    "# find the most common surname\n",
    "names(surname_counts)[which.max(surname_counts)]"
   ]
  },
  {
   "cell_type": "markdown",
   "id": "e0115b4d",
   "metadata": {},
   "source": [
    "#### What is the survival rate of passengers based on the number of family members on board?"
   ]
  },
  {
   "cell_type": "code",
   "execution_count": 16,
   "id": "cd4304aa",
   "metadata": {},
   "outputs": [
    {
     "data": {
      "text/plain": [
       "    \n",
       "             0         1\n",
       "  1  0.6964618 0.3035382\n",
       "  2  0.4472050 0.5527950\n",
       "  3  0.4215686 0.5784314\n",
       "  4  0.2758621 0.7241379\n",
       "  5  0.8000000 0.2000000\n",
       "  6  0.8636364 0.1363636\n",
       "  7  0.6666667 0.3333333\n",
       "  8  1.0000000 0.0000000\n",
       "  11 1.0000000 0.0000000"
      ]
     },
     "metadata": {},
     "output_type": "display_data"
    }
   ],
   "source": [
    "# calculate the total number of family members on board for each passenger\n",
    "titanic_data$FamilySize <- titanic_data$SibSp + titanic_data$Parch + 1\n",
    "\n",
    "# calculate the survival rate of passengers based on the number of family members on board\n",
    "prop.table(table(titanic_data$FamilySize, titanic_data$Survived), margin = 1)"
   ]
  },
  {
   "cell_type": "markdown",
   "id": "73f12f2d",
   "metadata": {},
   "source": [
    "#### Relationship between the survival rate of passengers and various factors including age, gender, class, and embarkation port."
   ]
  },
  {
   "cell_type": "code",
   "execution_count": 17,
   "id": "f4cdaaae",
   "metadata": {
    "scrolled": false
   },
   "outputs": [
    {
     "data": {
      "image/png": "[encoded data removed]",
      "text/plain": [
       "plot without title"
      ]
     },
     "metadata": {
      "image/png": {
       "height": 420,
       "width": 420
      }
     },
     "output_type": "display_data"
    },
    {
     "data": {
      "image/png": "[encoded data removed]",
      "text/plain": [
       "plot without title"
      ]
     },
     "metadata": {
      "image/png": {
       "height": 420,
       "width": 420
      }
     },
     "output_type": "display_data"
    },
    {
     "data": {
      "image/png": "[encoded data removed]",
      "text/plain": [
       "plot without title"
      ]
     },
     "metadata": {
      "image/png": {
       "height": 420,
       "width": 420
      }
     },
     "output_type": "display_data"
    },
    {
     "data": {
      "image/png": "[encoded data removed]",
      "text/plain": [
       "plot without title"
      ]
     },
     "metadata": {
      "image/png": {
       "height": 420,
       "width": 420
      }
     },
     "output_type": "display_data"
    },
    {
     "data": {
      "image/png": "[encoded data removed]",
      "text/plain": [
       "plot without title"
      ]
     },
     "metadata": {
      "image/png": {
       "height": 420,
       "width": 420
      }
     },
     "output_type": "display_data"
    }
   ],
   "source": [
    "# load necessary libraries\n",
    "library(ggplot2)\n",
    "\n",
    "# read in the Titanic dataset\n",
    "titanic_data <- read.csv(\"titanic.csv\", header = TRUE)\n",
    "\n",
    "# clean the data\n",
    "titanic_data$AgeGroup <- cut(titanic_data$Age, breaks = c(0, 18, 65, Inf), labels = c(\"child\", \"adult\", \"elderly\"))\n",
    "titanic_data$FamilySize <- titanic_data$SibSp + titanic_data$Parch + 1\n",
    "\n",
    "# create a bar chart of the survival rate by gender\n",
    "gender_survival <- aggregate(titanic_data$Survived, by = list(Sex = titanic_data$Sex), FUN = function(x) mean(x, na.rm = TRUE))\n",
    "ggplot(data = gender_survival, aes(x = Sex, y = x)) + geom_bar(stat = \"identity\") + ggtitle(\"Survival Rate by Gender\") + xlab(\"Gender\") + ylab(\"Survival Rate\")\n",
    "\n",
    "# create a bar chart of the survival rate by class\n",
    "class_survival <- aggregate(titanic_data$Survived, by = list(Class = titanic_data$Pclass), FUN = function(x) mean(x, na.rm = TRUE))\n",
    "ggplot(data = class_survival, aes(x = Class, y = x)) + geom_bar(stat = \"identity\") + ggtitle(\"Survival Rate by Class\") + xlab(\"Class\") + ylab(\"Survival Rate\")\n",
    "\n",
    "# create a bar chart of the survival rate by embarkation port\n",
    "port_survival <- aggregate(titanic_data$Survived, by = list(Port = titanic_data$Embarked), FUN = function(x) mean(x, na.rm = TRUE))\n",
    "ggplot(data = port_survival, aes(x = Port, y = x)) + geom_bar(stat = \"identity\") + ggtitle(\"Survival Rate by Embarkation Port\") + xlab(\"Embarkation Port\") + ylab(\"Survival Rate\")\n",
    "\n",
    "# create a scatter plot of the survival rate by age and class\n",
    "age_class_survival <- aggregate(titanic_data$Survived, by = list(AgeGroup = titanic_data$AgeGroup, Class = titanic_data$Pclass), FUN = function(x) mean(x, na.rm = TRUE))\n",
    "ggplot(data = age_class_survival, aes(x = Class, y = AgeGroup, size = x)) + geom_point() + ggtitle(\"Survival Rate by Age and Class\") + xlab(\"Class\") + ylab(\"Age Group\") + scale_size_continuous(range = c(1, 10))\n",
    "\n",
    "# create a scatter plot of the survival rate by age and gender\n",
    "age_gender_survival <- aggregate(titanic_data$Survived, by = list(AgeGroup = titanic_data$AgeGroup, Sex = titanic_data$Sex), FUN = function(x) mean(x, na.rm = TRUE))\n",
    "ggplot(data = age_gender_survival, aes(x = Sex, y = AgeGroup, size = x)) + geom_point() + ggtitle(\"Survival Rate by Age and Gender\") + xlab(\"Gender\") + ylab(\"Age Group\") + scale_size_continuous(range = c(1, 10))\n"
   ]
  },
  {
   "cell_type": "code",
   "execution_count": null,
   "id": "cbe00f16",
   "metadata": {},
   "outputs": [],
   "source": []
  }
 ],
 "metadata": {
  "kernelspec": {
   "display_name": "R",
   "language": "R",
   "name": "ir"
  },
  "language_info": {
   "codemirror_mode": "r",
   "file_extension": ".r",
   "mimetype": "text/x-r-source",
   "name": "R",
   "pygments_lexer": "r",
   "version": "4.2.2"
  }
 },
 "nbformat": 4,
 "nbformat_minor": 5
}
