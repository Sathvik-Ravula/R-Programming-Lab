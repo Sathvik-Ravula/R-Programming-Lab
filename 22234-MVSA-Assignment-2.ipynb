{
 "cells": [
  {
   "cell_type": "markdown",
   "id": "8a9f7b1f",
   "metadata": {},
   "source": [
    "# *Matrices In R : Delving Deeper*"
   ]
  },
  {
   "cell_type": "markdown",
   "id": "cc85fd41",
   "metadata": {},
   "source": [
    "**LU Decomposition**"
   ]
  },
  {
   "cell_type": "code",
   "execution_count": 1,
   "id": "56fed174",
   "metadata": {},
   "outputs": [
    {
     "data": {
      "text/plain": [
       "'MatrixFactorization' of Formal class 'denseLU' [package \"Matrix\"] with 4 slots\n",
       "  ..@ x       : num [1:9] 7 0.143 0.571 8 0.857 ...\n",
       "  ..@ perm    : int [1:3] 3 3 3\n",
       "  ..@ Dimnames:List of 2\n",
       "  .. ..$ : NULL\n",
       "  .. ..$ : NULL\n",
       "  ..@ Dim     : int [1:2] 3 3"
      ]
     },
     "metadata": {},
     "output_type": "display_data"
    }
   ],
   "source": [
    "library(Matrix)\n",
    "A <- matrix(c(1,2,3,4,5,6,7,8,10), nrow=3, byrow=TRUE)\n",
    "lu(A)\n"
   ]
  },
  {
   "cell_type": "markdown",
   "id": "ae4f7f43",
   "metadata": {},
   "source": [
    "**QR Decomposition**"
   ]
  },
  {
   "cell_type": "code",
   "execution_count": 2,
   "id": "794bf22a",
   "metadata": {},
   "outputs": [
    {
     "data": {
      "text/plain": [
       "$qr\n",
       "             [,1]        [,2]      [,3]\n",
       "[1,] -52.54521862 165.8952085  27.32884\n",
       "[2,]  -0.97059259 -70.9068388 -31.56643\n",
       "[3,]   0.07612491  -0.8192576 -23.01510\n",
       "\n",
       "$rank\n",
       "[1] 3\n",
       "\n",
       "$qraux\n",
       "[1]  1.228375  1.573426 23.015097\n",
       "\n",
       "$pivot\n",
       "[1] 1 2 3\n",
       "\n",
       "attr(,\"class\")\n",
       "[1] \"qr\""
      ]
     },
     "metadata": {},
     "output_type": "display_data"
    }
   ],
   "source": [
    "A <- matrix(c(12, -51, 4, 6, 167, -68, -4, 24, -41), nrow=3)\n",
    "qr(A)\n"
   ]
  },
  {
   "cell_type": "markdown",
   "id": "371558c7",
   "metadata": {},
   "source": [
    "**Singular Value Decomposition**"
   ]
  },
  {
   "cell_type": "code",
   "execution_count": 9,
   "id": "71394297",
   "metadata": {},
   "outputs": [
    {
     "data": {
      "text/html": [
       "<dl>\n",
       "\t<dt>$d</dt>\n",
       "\t\t<dd><style>\n",
       ".list-inline {list-style: none; margin:0; padding: 0}\n",
       ".list-inline>li {display: inline-block}\n",
       ".list-inline>li:not(:last-child)::after {content: \"\\00b7\"; padding: 0 .5ex}\n",
       "</style>\n",
       "<ol class=list-inline><li>9.50803200069572</li><li>0.772869635673484</li></ol>\n",
       "</dd>\n",
       "\t<dt>$u</dt>\n",
       "\t\t<dd><table class=\"dataframe\">\n",
       "<caption>A matrix: 2 × 2 of type dbl</caption>\n",
       "<tbody>\n",
       "\t<tr><td>-0.3863177</td><td>-0.9223658</td></tr>\n",
       "\t<tr><td>-0.9223658</td><td> 0.3863177</td></tr>\n",
       "</tbody>\n",
       "</table>\n",
       "</dd>\n",
       "\t<dt>$v</dt>\n",
       "\t\t<dd><table class=\"dataframe\">\n",
       "<caption>A matrix: 3 × 2 of type dbl</caption>\n",
       "<tbody>\n",
       "\t<tr><td>-0.4286671</td><td> 0.8059639</td></tr>\n",
       "\t<tr><td>-0.5663069</td><td> 0.1123824</td></tr>\n",
       "\t<tr><td>-0.7039467</td><td>-0.5811991</td></tr>\n",
       "</tbody>\n",
       "</table>\n",
       "</dd>\n",
       "</dl>\n"
      ],
      "text/latex": [
       "\\begin{description}\n",
       "\\item[\\$d] \\begin{enumerate*}\n",
       "\\item 9.50803200069572\n",
       "\\item 0.772869635673484\n",
       "\\end{enumerate*}\n",
       "\n",
       "\\item[\\$u] A matrix: 2 × 2 of type dbl\n",
       "\\begin{tabular}{ll}\n",
       "\t -0.3863177 & -0.9223658\\\\\n",
       "\t -0.9223658 &  0.3863177\\\\\n",
       "\\end{tabular}\n",
       "\n",
       "\\item[\\$v] A matrix: 3 × 2 of type dbl\n",
       "\\begin{tabular}{ll}\n",
       "\t -0.4286671 &  0.8059639\\\\\n",
       "\t -0.5663069 &  0.1123824\\\\\n",
       "\t -0.7039467 & -0.5811991\\\\\n",
       "\\end{tabular}\n",
       "\n",
       "\\end{description}\n"
      ],
      "text/markdown": [
       "$d\n",
       ":   1. 9.50803200069572\n",
       "2. 0.772869635673484\n",
       "\n",
       "\n",
       "\n",
       "$u\n",
       ":   \n",
       "A matrix: 2 × 2 of type dbl\n",
       "\n",
       "| -0.3863177 | -0.9223658 |\n",
       "| -0.9223658 |  0.3863177 |\n",
       "\n",
       "\n",
       "$v\n",
       ":   \n",
       "A matrix: 3 × 2 of type dbl\n",
       "\n",
       "| -0.4286671 |  0.8059639 |\n",
       "| -0.5663069 |  0.1123824 |\n",
       "| -0.7039467 | -0.5811991 |\n",
       "\n",
       "\n",
       "\n",
       "\n"
      ],
      "text/plain": [
       "$d\n",
       "[1] 9.5080320 0.7728696\n",
       "\n",
       "$u\n",
       "           [,1]       [,2]\n",
       "[1,] -0.3863177 -0.9223658\n",
       "[2,] -0.9223658  0.3863177\n",
       "\n",
       "$v\n",
       "           [,1]       [,2]\n",
       "[1,] -0.4286671  0.8059639\n",
       "[2,] -0.5663069  0.1123824\n",
       "[3,] -0.7039467 -0.5811991\n"
      ]
     },
     "metadata": {},
     "output_type": "display_data"
    }
   ],
   "source": [
    "A <- matrix(c(1, 2, 3, 4, 5, 6), nrow=2, byrow=TRUE)\n",
    "svd(A)\n"
   ]
  },
  {
   "cell_type": "markdown",
   "id": "7c4d94f7",
   "metadata": {},
   "source": [
    "**Eigen Value Decomposition**"
   ]
  },
  {
   "cell_type": "code",
   "execution_count": 10,
   "id": "94f53adb",
   "metadata": {},
   "outputs": [
    {
     "data": {
      "text/plain": [
       "eigen() decomposition\n",
       "$values\n",
       "[1]  5.3722813 -0.3722813\n",
       "\n",
       "$vectors\n",
       "           [,1]       [,2]\n",
       "[1,] -0.5657675 -0.9093767\n",
       "[2,] -0.8245648  0.4159736\n"
      ]
     },
     "metadata": {},
     "output_type": "display_data"
    }
   ],
   "source": [
    "A <- matrix(c(1, 2, 3, 4), nrow=2, ncol=2)\n",
    "eigen(A)\n"
   ]
  },
  {
   "cell_type": "markdown",
   "id": "dcb666b4",
   "metadata": {},
   "source": [
    "**Solving a system of linear equations using matrices**"
   ]
  },
  {
   "cell_type": "code",
   "execution_count": 11,
   "id": "d0ccc437",
   "metadata": {},
   "outputs": [
    {
     "name": "stdout",
     "output_type": "stream",
     "text": [
      "The solution is: [1] -10.33333  12.00000 -12.66667\n",
      "\n",
      "Verification:      [,1]\n",
      "[1,]    4\n",
      "[2,]   13\n",
      "[3,]    1\n"
     ]
    }
   ],
   "source": [
    "# 2x + y + z = 4\n",
    "# x + 3y + 2z = 13\n",
    "# -x + y + z = 1\n",
    "\n",
    "# Create the coefficient matrix A\n",
    "A <- matrix(c(2, 1, 1, 1, 3, 2, -1, 1, 1), nrow=3, ncol=3)\n",
    "\n",
    "# Create the right-hand side vector b\n",
    "b <- c(4, 13, 1)\n",
    "\n",
    "# Solve the system of linear equations\n",
    "x <- solve(A, b)\n",
    "\n",
    "# Print the solution\n",
    "cat(\"The solution is: \")\n",
    "print(x)\n",
    "\n",
    "# Verify the solution\n",
    "cat(\"\\nVerification: \")\n",
    "print(A %*% x)\n"
   ]
  },
  {
   "cell_type": "markdown",
   "id": "d9e516c0",
   "metadata": {},
   "source": [
    "### Plotting Multivariate Normal Distribution"
   ]
  },
  {
   "cell_type": "code",
   "execution_count": 26,
   "id": "edb52392",
   "metadata": {},
   "outputs": [
    {
     "name": "stderr",
     "output_type": "stream",
     "text": [
      "Warning message:\n",
      "\"package 'mvtnorm' is in use and will not be installed\"\n",
      "Installing package into 'C:/Users/Msc 1/AppData/Local/R/win-library/4.2'\n",
      "(as 'lib' is unspecified)\n",
      "\n"
     ]
    },
    {
     "name": "stdout",
     "output_type": "stream",
     "text": [
      "package 'scatterplot3d' successfully unpacked and MD5 sums checked\n",
      "\n",
      "The downloaded binary packages are in\n",
      "\tC:\\Users\\Msc 1\\AppData\\Local\\Temp\\RtmpMZueVY\\downloaded_packages\n"
     ]
    }
   ],
   "source": [
    "install.packages(\"mvtnorm\")\n",
    "install.packages(\"scatterplot3d\")\n"
   ]
  },
  {
   "cell_type": "code",
   "execution_count": 27,
   "id": "0e5356d8",
   "metadata": {},
   "outputs": [
    {
     "name": "stderr",
     "output_type": "stream",
     "text": [
      "Warning message in x * x.coef:\n",
      "\"longer object length is not a multiple of shorter object length\"\n",
      "Warning message in x * x.coef:\n",
      "\"longer object length is not a multiple of shorter object length\"\n"
     ]
    },
    {
     "ename": "ERROR",
     "evalue": "Error in segments(x, z1, x + y.max * yx.f, z2 + yz.f * y.max, lty = ltya, : cannot mix zero-length and non-zero-length coordinates\n",
     "output_type": "error",
     "traceback": [
      "Error in segments(x, z1, x + y.max * yx.f, z2 + yz.f * y.max, lty = ltya, : cannot mix zero-length and non-zero-length coordinates\nTraceback:\n",
      "1. s3d$plane3d(mu, sigma, col = \"gray90\", alpha = 0.8)",
      "2. segments(x, z1, x + y.max * yx.f, z2 + yz.f * y.max, lty = ltya, \n .     ...)"
     ]
    },
    {
     "data": {
      "image/png": "[encoded data removed]",
      "text/plain": [
       "Plot with title \"Multivariate Normal Distribution\""
      ]
     },
     "metadata": {
      "image/png": {
       "height": 420,
       "width": 420
      }
     },
     "output_type": "display_data"
    }
   ],
   "source": [
    "library(mvtnorm)\n",
    "library(scatterplot3d)\n",
    "\n",
    "# Generate random samples from a multivariate normal distribution\n",
    "n <- 1000\n",
    "mu <- c(1, 2, 3)\n",
    "sigma <- matrix(c(1, 0.5, 0.3, 0.5, 2, 0.4, 0.3, 0.4, 3), nrow=3, ncol=3)\n",
    "set.seed(123) # for reproducibility\n",
    "x <- rmvnorm(n, mean=mu, sigma=sigma)\n",
    "\n",
    "# Create a 3D scatter plot of the random samples\n",
    "s3d <- scatterplot3d(x, color=rgb(0.2, 0.5, 0.8, 0.4), pch=19, main=\"Multivariate Normal Distribution\",\n",
    "                     xlab=\"X1\", ylab=\"X2\", zlab=\"X3\", type=\"h\", angle=45, box=FALSE)\n",
    "\n",
    "# Add a surface plot of the multivariate normal density\n",
    "s3d$plane3d(mu, sigma, col=\"gray90\", alpha=0.8)\n"
   ]
  },
  {
   "cell_type": "code",
   "execution_count": null,
   "id": "2d1a5beb",
   "metadata": {},
   "outputs": [],
   "source": []
  }
 ],
 "metadata": {
  "kernelspec": {
   "display_name": "R",
   "language": "R",
   "name": "ir"
  },
  "language_info": {
   "codemirror_mode": "r",
   "file_extension": ".r",
   "mimetype": "text/x-r-source",
   "name": "R",
   "pygments_lexer": "r",
   "version": "4.2.2"
  }
 },
 "nbformat": 4,
 "nbformat_minor": 5
}
