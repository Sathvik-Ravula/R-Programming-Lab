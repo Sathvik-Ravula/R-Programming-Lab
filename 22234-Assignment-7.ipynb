{
 "cells": [
  {
   "cell_type": "markdown",
   "id": "b6c785b5",
   "metadata": {},
   "source": [
    "# *Tibbles in R*"
   ]
  },
  {
   "cell_type": "markdown",
   "id": "eb089912",
   "metadata": {},
   "source": [
    "In R, a tibble is a modern and improved version of a data frame, designed to make working with data easier and more intuitive. Tibbles have a similar structure to data frames, but with some differences in their behavior and syntax."
   ]
  },
  {
   "cell_type": "code",
   "execution_count": 2,
   "id": "5426bdb8",
   "metadata": {},
   "outputs": [
    {
     "name": "stderr",
     "output_type": "stream",
     "text": [
      "Warning message:\n",
      "\"package 'tidyverse' was built under R version 4.2.3\"\n",
      "── \u001b[1mAttaching core tidyverse packages\u001b[22m ──────────────────────────────────────────────────────────────── tidyverse 2.0.0 ──\n",
      "\u001b[32m✔\u001b[39m \u001b[34mdplyr    \u001b[39m 1.1.0     \u001b[32m✔\u001b[39m \u001b[34mpurrr    \u001b[39m 1.0.1\n",
      "\u001b[32m✔\u001b[39m \u001b[34mforcats  \u001b[39m 1.0.0     \u001b[32m✔\u001b[39m \u001b[34mreadr    \u001b[39m 2.1.4\n",
      "\u001b[32m✔\u001b[39m \u001b[34mggplot2  \u001b[39m 3.4.1     \u001b[32m✔\u001b[39m \u001b[34mstringr  \u001b[39m 1.5.0\n",
      "\u001b[32m✔\u001b[39m \u001b[34mlubridate\u001b[39m 1.9.2     \u001b[32m✔\u001b[39m \u001b[34mtidyr    \u001b[39m 1.3.0\n",
      "── \u001b[1mConflicts\u001b[22m ────────────────────────────────────────────────────────────────────────────────── tidyverse_conflicts() ──\n",
      "\u001b[31m✖\u001b[39m \u001b[34mdplyr\u001b[39m::\u001b[32mfilter()\u001b[39m masks \u001b[34mstats\u001b[39m::filter()\n",
      "\u001b[31m✖\u001b[39m \u001b[34mdplyr\u001b[39m::\u001b[32mlag()\u001b[39m    masks \u001b[34mstats\u001b[39m::lag()\n",
      "\u001b[36mℹ\u001b[39m Use the conflicted package (\u001b[3m\u001b[34m<http://conflicted.r-lib.org/>\u001b[39m\u001b[23m) to force all conflicts to become errors\n"
     ]
    }
   ],
   "source": [
    "library(tidyverse)"
   ]
  },
  {
   "cell_type": "code",
   "execution_count": 10,
   "id": "d8ec70f7",
   "metadata": {},
   "outputs": [
    {
     "name": "stdout",
     "output_type": "stream",
     "text": [
      "\u001b[90m# A tibble: 3 × 3\u001b[39m\n",
      "  name      age gender\n",
      "  \u001b[3m\u001b[90m<chr>\u001b[39m\u001b[23m   \u001b[3m\u001b[90m<dbl>\u001b[39m\u001b[23m \u001b[3m\u001b[90m<chr>\u001b[39m\u001b[23m \n",
      "\u001b[90m1\u001b[39m Alice      25 F     \n",
      "\u001b[90m2\u001b[39m Bob        30 M     \n",
      "\u001b[90m3\u001b[39m Charlie    35 M     \n"
     ]
    }
   ],
   "source": [
    "# create a tibble with two columns\n",
    "my_tibble <- tibble(name = c(\"Alice\", \"Bob\", \"Charlie\"), age = c(25, 30, 35), )\n",
    "\n",
    "# print the tibble\n",
    "print(my_tibble)"
   ]
  },
  {
   "cell_type": "markdown",
   "id": "30e662ac",
   "metadata": {},
   "source": [
    "#### Tibbles have several advantages over data frames, including:\n",
    "\n",
    "* Printing only the first 10 rows and all columns that fit on a screen, which makes it easier to work with large datasets\n",
    "* Column names are not automatically converted to factors, which can sometimes cause issues with data types\n",
    "* Non-standard evaluation, which allows you to use variable names without having to use the dollar sign operator ($)\n",
    "* Built-in support for tidyverse packages, which makes it easier to work with data in a tidy way."
   ]
  },
  {
   "cell_type": "markdown",
   "id": "6419b103",
   "metadata": {},
   "source": [
    "#### Accessing columns in a tibble:"
   ]
  },
  {
   "cell_type": "code",
   "execution_count": 11,
   "id": "f19e8c11",
   "metadata": {},
   "outputs": [
    {
     "data": {
      "text/html": [
       "<style>\n",
       ".list-inline {list-style: none; margin:0; padding: 0}\n",
       ".list-inline>li {display: inline-block}\n",
       ".list-inline>li:not(:last-child)::after {content: \"\\00b7\"; padding: 0 .5ex}\n",
       "</style>\n",
       "<ol class=list-inline><li>'Alice'</li><li>'Bob'</li><li>'Charlie'</li></ol>\n"
      ],
      "text/latex": [
       "\\begin{enumerate*}\n",
       "\\item 'Alice'\n",
       "\\item 'Bob'\n",
       "\\item 'Charlie'\n",
       "\\end{enumerate*}\n"
      ],
      "text/markdown": [
       "1. 'Alice'\n",
       "2. 'Bob'\n",
       "3. 'Charlie'\n",
       "\n",
       "\n"
      ],
      "text/plain": [
       "[1] \"Alice\"   \"Bob\"     \"Charlie\""
      ]
     },
     "metadata": {},
     "output_type": "display_data"
    }
   ],
   "source": [
    "# select the \"name\" column from the tibble\n",
    "my_tibble$name\n"
   ]
  },
  {
   "cell_type": "markdown",
   "id": "d1d4f29a",
   "metadata": {},
   "source": [
    "#### Filtering rows in a tibble:"
   ]
  },
  {
   "cell_type": "code",
   "execution_count": 12,
   "id": "dd38c941",
   "metadata": {},
   "outputs": [
    {
     "name": "stdout",
     "output_type": "stream",
     "text": [
      "\u001b[90m# A tibble: 1 × 3\u001b[39m\n",
      "  name      age gender\n",
      "  \u001b[3m\u001b[90m<chr>\u001b[39m\u001b[23m   \u001b[3m\u001b[90m<dbl>\u001b[39m\u001b[23m \u001b[3m\u001b[90m<chr>\u001b[39m\u001b[23m \n",
      "\u001b[90m1\u001b[39m Charlie    35 M     \n"
     ]
    }
   ],
   "source": [
    "# filter the tibble to only include rows where age is greater than 30\n",
    "my_tibble_filtered <- filter(my_tibble, age > 30)\n",
    "\n",
    "# print the filtered tibble\n",
    "print(my_tibble_filtered)\n"
   ]
  },
  {
   "cell_type": "markdown",
   "id": "809d976a",
   "metadata": {},
   "source": [
    "#### Adding a new column to a tibble:"
   ]
  },
  {
   "cell_type": "code",
   "execution_count": 13,
   "id": "e4249ffa",
   "metadata": {},
   "outputs": [
    {
     "name": "stdout",
     "output_type": "stream",
     "text": [
      "\u001b[90m# A tibble: 3 × 4\u001b[39m\n",
      "  name      age gender over_30\n",
      "  \u001b[3m\u001b[90m<chr>\u001b[39m\u001b[23m   \u001b[3m\u001b[90m<dbl>\u001b[39m\u001b[23m \u001b[3m\u001b[90m<chr>\u001b[39m\u001b[23m  \u001b[3m\u001b[90m<chr>\u001b[39m\u001b[23m  \n",
      "\u001b[90m1\u001b[39m Alice      25 F      no     \n",
      "\u001b[90m2\u001b[39m Bob        30 M      no     \n",
      "\u001b[90m3\u001b[39m Charlie    35 M      yes    \n"
     ]
    }
   ],
   "source": [
    "# add a new column to the tibble that indicates if the person is over 30\n",
    "my_tibble <- mutate(my_tibble, over_30 = ifelse(age > 30, \"yes\", \"no\"))\n",
    "\n",
    "# print the tibble with the new column\n",
    "print(my_tibble)\n"
   ]
  },
  {
   "cell_type": "markdown",
   "id": "dd530686",
   "metadata": {},
   "source": [
    "#### Summarizing data in a tibble:"
   ]
  },
  {
   "cell_type": "code",
   "execution_count": 14,
   "id": "a3fef0b8",
   "metadata": {},
   "outputs": [
    {
     "name": "stdout",
     "output_type": "stream",
     "text": [
      "\u001b[90m# A tibble: 2 × 2\u001b[39m\n",
      "  gender average_age\n",
      "  \u001b[3m\u001b[90m<chr>\u001b[39m\u001b[23m        \u001b[3m\u001b[90m<dbl>\u001b[39m\u001b[23m\n",
      "\u001b[90m1\u001b[39m F             25  \n",
      "\u001b[90m2\u001b[39m M             32.5\n"
     ]
    }
   ],
   "source": [
    "# summarize the tibble to get the average age by gender\n",
    "age_by_gender <- summarise(group_by(my_tibble, gender), average_age = mean(age))\n",
    "\n",
    "# print the summarized data\n",
    "print(age_by_gender)\n"
   ]
  },
  {
   "cell_type": "markdown",
   "id": "5987e280",
   "metadata": {},
   "source": [
    "#### Sorting a tibble:"
   ]
  },
  {
   "cell_type": "code",
   "execution_count": 15,
   "id": "052e4a15",
   "metadata": {},
   "outputs": [
    {
     "name": "stdout",
     "output_type": "stream",
     "text": [
      "\u001b[90m# A tibble: 3 × 4\u001b[39m\n",
      "  name      age gender over_30\n",
      "  \u001b[3m\u001b[90m<chr>\u001b[39m\u001b[23m   \u001b[3m\u001b[90m<dbl>\u001b[39m\u001b[23m \u001b[3m\u001b[90m<chr>\u001b[39m\u001b[23m  \u001b[3m\u001b[90m<chr>\u001b[39m\u001b[23m  \n",
      "\u001b[90m1\u001b[39m Charlie    35 M      yes    \n",
      "\u001b[90m2\u001b[39m Bob        30 M      no     \n",
      "\u001b[90m3\u001b[39m Alice      25 F      no     \n"
     ]
    }
   ],
   "source": [
    "# sort the tibble by age in descending order\n",
    "my_tibble_sorted <- arrange(my_tibble, desc(age))\n",
    "\n",
    "# print the sorted tibble\n",
    "print(my_tibble_sorted)\n"
   ]
  },
  {
   "cell_type": "markdown",
   "id": "8dc0f9bb",
   "metadata": {},
   "source": [
    "#### Combining tibbles:"
   ]
  },
  {
   "cell_type": "code",
   "execution_count": 16,
   "id": "73ed4887",
   "metadata": {},
   "outputs": [
    {
     "name": "stdout",
     "output_type": "stream",
     "text": [
      "\u001b[90m# A tibble: 6 × 2\u001b[39m\n",
      "      x     y\n",
      "  \u001b[3m\u001b[90m<dbl>\u001b[39m\u001b[23m \u001b[3m\u001b[90m<dbl>\u001b[39m\u001b[23m\n",
      "\u001b[90m1\u001b[39m     1     4\n",
      "\u001b[90m2\u001b[39m     2     5\n",
      "\u001b[90m3\u001b[39m     3     6\n",
      "\u001b[90m4\u001b[39m     4     7\n",
      "\u001b[90m5\u001b[39m     5     8\n",
      "\u001b[90m6\u001b[39m     6     9\n"
     ]
    }
   ],
   "source": [
    "# create two tibbles with the same columns\n",
    "tibble1 <- tibble(x = c(1, 2, 3), y = c(4, 5, 6))\n",
    "tibble2 <- tibble(x = c(4, 5, 6), y = c(7, 8, 9))\n",
    "\n",
    "# combine the two tibbles into one\n",
    "combined_tibble <- bind_rows(tibble1, tibble2)\n",
    "\n",
    "# print the combined tibble\n",
    "print(combined_tibble)\n"
   ]
  },
  {
   "cell_type": "markdown",
   "id": "9e429634",
   "metadata": {},
   "source": [
    "#### Adding rows to a tibble:"
   ]
  },
  {
   "cell_type": "code",
   "execution_count": 17,
   "id": "7c87080f",
   "metadata": {},
   "outputs": [
    {
     "name": "stdout",
     "output_type": "stream",
     "text": [
      "\u001b[90m# A tibble: 3 × 2\u001b[39m\n",
      "      a     b\n",
      "  \u001b[3m\u001b[90m<dbl>\u001b[39m\u001b[23m \u001b[3m\u001b[90m<dbl>\u001b[39m\u001b[23m\n",
      "\u001b[90m1\u001b[39m     1     3\n",
      "\u001b[90m2\u001b[39m     2     4\n",
      "\u001b[90m3\u001b[39m     3     5\n"
     ]
    }
   ],
   "source": [
    "# create a tibble with two columns\n",
    "my_tibble <- tibble(a = c(1, 2), b = c(3, 4))\n",
    "\n",
    "# add a new row to the tibble\n",
    "my_tibble <- add_row(my_tibble, a = 3, b = 5)\n",
    "\n",
    "# print the modified tibble\n",
    "print(my_tibble)\n"
   ]
  },
  {
   "cell_type": "markdown",
   "id": "f04bf0ae",
   "metadata": {},
   "source": [
    "#### Renaming columns:"
   ]
  },
  {
   "cell_type": "code",
   "execution_count": 18,
   "id": "4d3c0e4f",
   "metadata": {},
   "outputs": [
    {
     "name": "stdout",
     "output_type": "stream",
     "text": [
      "\u001b[90m# A tibble: 3 × 2\u001b[39m\n",
      "      A     b\n",
      "  \u001b[3m\u001b[90m<dbl>\u001b[39m\u001b[23m \u001b[3m\u001b[90m<dbl>\u001b[39m\u001b[23m\n",
      "\u001b[90m1\u001b[39m     1     4\n",
      "\u001b[90m2\u001b[39m     2     5\n",
      "\u001b[90m3\u001b[39m     3     6\n"
     ]
    }
   ],
   "source": [
    "# create a tibble with two columns\n",
    "my_tibble <- tibble(a = c(1, 2, 3), b = c(4, 5, 6))\n",
    "\n",
    "# rename the \"a\" column to \"A\"\n",
    "my_tibble_renamed <- rename(my_tibble, A = a)\n",
    "\n",
    "# print the renamed tibble\n",
    "print(my_tibble_renamed)\n"
   ]
  }
 ],
 "metadata": {
  "kernelspec": {
   "display_name": "R",
   "language": "R",
   "name": "ir"
  },
  "language_info": {
   "codemirror_mode": "r",
   "file_extension": ".r",
   "mimetype": "text/x-r-source",
   "name": "R",
   "pygments_lexer": "r",
   "version": "4.2.2"
  }
 },
 "nbformat": 4,
 "nbformat_minor": 5
}
