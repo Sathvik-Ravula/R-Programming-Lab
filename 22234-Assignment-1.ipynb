{
 "cells": [
  {
   "cell_type": "markdown",
   "id": "08fe8fbc",
   "metadata": {},
   "source": [
    "# Matrix Manipulations\n"
   ]
  },
  {
   "cell_type": "markdown",
   "id": "da430e89",
   "metadata": {},
   "source": [
    "**Matrices** are the R objects in which the elements are arranged in a two-dimensional rectangular layout. They contain elements of the same atomic types. Though we can create a matrix containing only characters or only logical values, they are not of much use. We use matrices containing numeric elements to be used in mathematical calculations.\n",
    "\n",
    "A Matrix is created using the matrix() function."
   ]
  },
  {
   "cell_type": "code",
   "execution_count": 1,
   "id": "816e2629",
   "metadata": {},
   "outputs": [
    {
     "name": "stdout",
     "output_type": "stream",
     "text": [
      "     [,1] [,2] [,3]\n",
      "[1,]    1    4    7\n",
      "[2,]    2    5    8\n",
      "[3,]    3    6    9\n"
     ]
    }
   ],
   "source": [
    "# create a 3x3 matrix\n",
    "matrix_3x3 <- matrix(c(1, 2, 3, 4, 5, 6, 7, 8, 9), nrow = 3)\n",
    "\n",
    "# print the matrix\n",
    "print(matrix_3x3)\n"
   ]
  },
  {
   "cell_type": "code",
   "execution_count": 2,
   "id": "181e8f91",
   "metadata": {},
   "outputs": [
    {
     "name": "stdout",
     "output_type": "stream",
     "text": [
      "     [,1] [,2] [,3]\n",
      "[1,]    1    2    3\n",
      "[2,]    4    5    6\n",
      "[3,]    7    8    9\n"
     ]
    }
   ],
   "source": [
    "# transpose the 3x3 matrix\n",
    "matrix_3x3_transposed <- t(matrix_3x3)\n",
    "\n",
    "# print the transposed matrix\n",
    "print(matrix_3x3_transposed)\n"
   ]
  },
  {
   "cell_type": "code",
   "execution_count": 4,
   "id": "eb681456",
   "metadata": {},
   "outputs": [
    {
     "name": "stdout",
     "output_type": "stream",
     "text": [
      "     [,1] [,2]\n",
      "[1,]    1    4\n",
      "[2,]    2    5\n"
     ]
    }
   ],
   "source": [
    "# extract the submatrix consisting of the first 2 rows and 2 columns of the 3x3 matrix\n",
    "submatrix <- matrix_3x3[1:2, 1:2]\n",
    "\n",
    "# print the submatrix\n",
    "print(submatrix)\n"
   ]
  },
  {
   "cell_type": "code",
   "execution_count": 5,
   "id": "2ff96a12",
   "metadata": {},
   "outputs": [
    {
     "name": "stdout",
     "output_type": "stream",
     "text": [
      "        [,1] [,2] [,3]\n",
      "           1    4    7\n",
      "           2    5    8\n",
      "           3    6    9\n",
      "new_row   10   11   12\n",
      "           new_column\n",
      "[1,] 1 4 7         10\n",
      "[2,] 2 5 8         11\n",
      "[3,] 3 6 9         12\n"
     ]
    }
   ],
   "source": [
    "# add a new row to the 3x3 matrix\n",
    "new_row <- c(10, 11, 12)\n",
    "matrix_3x3_with_row <- rbind(matrix_3x3, new_row)\n",
    "\n",
    "# add a new column to the 3x3 matrix\n",
    "new_column <- c(10, 11, 12)\n",
    "matrix_3x3_with_column <- cbind(matrix_3x3, new_column)\n",
    "\n",
    "# print the matrices with the new row and column\n",
    "print(matrix_3x3_with_row)\n",
    "print(matrix_3x3_with_column)\n"
   ]
  },
  {
   "cell_type": "code",
   "execution_count": 6,
   "id": "c188682a",
   "metadata": {},
   "outputs": [
    {
     "name": "stdout",
     "output_type": "stream",
     "text": [
      "[1] -2\n"
     ]
    }
   ],
   "source": [
    "# calculate the determinant of the 2x2 matrix\n",
    "matrix_det <- det(matrix_2x2)\n",
    "\n",
    "# print the determinant\n",
    "print(matrix_det)\n"
   ]
  },
  {
   "cell_type": "code",
   "execution_count": 7,
   "id": "a93d1a01",
   "metadata": {},
   "outputs": [
    {
     "name": "stdout",
     "output_type": "stream",
     "text": [
      "     [,1] [,2]\n",
      "[1,]   -2  1.5\n",
      "[2,]    1 -0.5\n"
     ]
    }
   ],
   "source": [
    "# invert the 2x2 matrix\n",
    "matrix_inverse <- solve(matrix_2x2)\n",
    "\n",
    "# print the inverted matrix\n",
    "print(matrix_inverse)\n"
   ]
  },
  {
   "cell_type": "code",
   "execution_count": 8,
   "id": "348cff38",
   "metadata": {},
   "outputs": [
    {
     "name": "stdout",
     "output_type": "stream",
     "text": [
      "[1] 15\n"
     ]
    }
   ],
   "source": [
    "# calculate the trace of the 3x3 matrix\n",
    "matrix_trace <- sum(diag(matrix_3x3))\n",
    "\n",
    "# print the trace\n",
    "print(matrix_trace)\n"
   ]
  },
  {
   "cell_type": "code",
   "execution_count": 9,
   "id": "9784c22e",
   "metadata": {},
   "outputs": [
    {
     "name": "stdout",
     "output_type": "stream",
     "text": [
      "     [,1] [,2] [,3]\n",
      "[1,]    2    8   14\n",
      "[2,]    4   10   16\n",
      "[3,]    6   12   18\n"
     ]
    }
   ],
   "source": [
    "# create a function that doubles its input\n",
    "double_function <- function(x) {\n",
    "  return(x * 2)\n",
    "}\n",
    "\n",
    "# apply the function to each element of the 3x3 matrix\n",
    "matrix_doubled <- apply(matrix_3x3, c(1, 2), double_function)\n",
    "\n",
    "# print the doubled matrix\n",
    "print(matrix_doubled)\n"
   ]
  },
  {
   "cell_type": "code",
   "execution_count": 10,
   "id": "916e520f",
   "metadata": {},
   "outputs": [
    {
     "name": "stdout",
     "output_type": "stream",
     "text": [
      "     [,1] [,2]\n",
      "[1,]    1    2\n",
      "[2,]    3    4\n",
      "[3,]    5    6\n",
      "[4,]    7    8\n"
     ]
    }
   ],
   "source": [
    "# create a 2x4 matrix\n",
    "matrix_2x4 <- matrix(c(1, 2, 3, 4, 5, 6, 7, 8), nrow = 2)\n",
    "\n",
    "# reshape the 2x4 matrix into a 4x2 matrix\n",
    "matrix_4x2 <- t(matrix_2x4)\n",
    "\n",
    "# print the reshaped matrix\n",
    "print(matrix_4x2)\n"
   ]
  },
  {
   "cell_type": "code",
   "execution_count": 11,
   "id": "00b6edb5",
   "metadata": {},
   "outputs": [
    {
     "name": "stdout",
     "output_type": "stream",
     "text": [
      "     [,1] [,2] [,3]\n",
      "[1,]    1    3    5\n",
      "[2,]    2    4    6\n",
      "[3,]    7    9   11\n",
      "[4,]    8   10   12\n"
     ]
    }
   ],
   "source": [
    "# create a 2x3 matrix\n",
    "matrix_2x3a <- matrix(c(1, 2, 3, 4, 5, 6), nrow = 2)\n",
    "\n",
    "# create a second 2x3 matrix\n",
    "matrix_2x3b <- matrix(c(7, 8, 9, 10, 11, 12), nrow = 2)\n",
    "\n",
    "# concatenate the two matrices vertically\n",
    "matrix_4x3 <- rbind(matrix_2x3a, matrix_2x3b)\n",
    "\n",
    "# print the concatenated matrix\n",
    "print(matrix_4x3)\n"
   ]
  },
  {
   "cell_type": "code",
   "execution_count": 12,
   "id": "d6c06fbc",
   "metadata": {},
   "outputs": [
    {
     "name": "stdout",
     "output_type": "stream",
     "text": [
      "     [,1] [,2] [,3]\n",
      "[1,]    2    6   10\n",
      "[2,]    4    8   12\n"
     ]
    }
   ],
   "source": [
    "# create a 2x3 matrix\n",
    "matrix_2x3 <- matrix(c(1, 2, 3, 4, 5, 6), nrow = 2)\n",
    "\n",
    "# scale the matrix by a factor of 2\n",
    "matrix_scaled <- matrix_2x3 * 2\n",
    "\n",
    "# print the scaled matrix\n",
    "print(matrix_scaled)\n"
   ]
  },
  {
   "cell_type": "code",
   "execution_count": 13,
   "id": "cba061d1",
   "metadata": {},
   "outputs": [
    {
     "name": "stdout",
     "output_type": "stream",
     "text": [
      "     [,1] [,2] [,3]\n",
      "[1,]    2    4    6\n",
      "[2,]    3    5    7\n"
     ]
    }
   ],
   "source": [
    "# create a 2x3 matrix\n",
    "matrix_2x3 <- matrix(c(1, 2, 3, 4, 5, 6), nrow = 2)\n",
    "\n",
    "# add 1 to each element of the matrix\n",
    "matrix_added <- matrix_2x3 + 1\n",
    "\n",
    "# print the modified matrix\n",
    "print(matrix_added)\n"
   ]
  },
  {
   "cell_type": "code",
   "execution_count": 17,
   "id": "4bb90b88",
   "metadata": {},
   "outputs": [
    {
     "name": "stdout",
     "output_type": "stream",
     "text": [
      "[1]  1.611684e+01 -1.116844e+00 -5.700691e-16\n",
      "           [,1]       [,2]       [,3]\n",
      "[1,] -0.4645473 -0.8829060  0.4082483\n",
      "[2,] -0.5707955 -0.2395204 -0.8164966\n",
      "[3,] -0.6770438  0.4038651  0.4082483\n"
     ]
    }
   ],
   "source": [
    "# create a 3x3 matrix\n",
    "matrix_3x3 <- matrix(c(1, 2, 3, 4, 5, 6, 7, 8, 9), nrow = 3)\n",
    "\n",
    "# calculate the eigenvalues and eigenvectors of the matrix\n",
    "eigen_results <- eigen(matrix_3x3)\n",
    "\n",
    "# print the eigenvalues and eigenvectors\n",
    "print(eigen_results$values)\n",
    "print(eigen_results$vectors)\n"
   ]
  },
  {
   "cell_type": "code",
   "execution_count": 18,
   "id": "417c272d",
   "metadata": {},
   "outputs": [
    {
     "name": "stdout",
     "output_type": "stream",
     "text": [
      "[1] 2\n",
      "attr(,\"method\")\n",
      "[1] \"tolNorm2\"\n",
      "attr(,\"useGrad\")\n",
      "[1] FALSE\n",
      "attr(,\"tol\")\n",
      "[1] 6.661338e-16\n"
     ]
    }
   ],
   "source": [
    "# load the Matrix package\n",
    "library(Matrix)\n",
    "\n",
    "# create a 3x3 matrix\n",
    "matrix_3x3 <- matrix(c(1, 2, 3, 4, 5, 6, 7, 8, 9), nrow = 3)\n",
    "\n",
    "# convert the matrix to a sparse matrix\n",
    "sparse_matrix <- Matrix(matrix_3x3, sparse = TRUE)\n",
    "\n",
    "# find the rank of the matrix\n",
    "rank <- rankMatrix(sparse_matrix)\n",
    "\n",
    "# print the rank\n",
    "print(rank)\n"
   ]
  },
  {
   "cell_type": "code",
   "execution_count": null,
   "id": "d5b11084",
   "metadata": {},
   "outputs": [],
   "source": []
  }
 ],
 "metadata": {
  "kernelspec": {
   "display_name": "R",
   "language": "R",
   "name": "ir"
  },
  "language_info": {
   "codemirror_mode": "r",
   "file_extension": ".r",
   "mimetype": "text/x-r-source",
   "name": "R",
   "pygments_lexer": "r",
   "version": "4.2.2"
  }
 },
 "nbformat": 4,
 "nbformat_minor": 5
}
